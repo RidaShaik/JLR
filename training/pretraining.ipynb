{
 "cells": [
  {
   "cell_type": "code",
   "execution_count": null,
   "metadata": {},
   "outputs": [],
   "source": [
    "import torch\n",
    "import os\n",
    "import torch.nn as nn\n",
    "import torch.optim as optim\n",
    "import torchvision.transforms as transforms\n",
    "from torch.utils.data import DataLoader\n",
    "from dotenv import load_dotenv\n",
    "from huggingface_hub import login\n",
    "from datasets import load_dataset\n",
    "from transformers import VideoMAEForPreTraining\n"
   ]
  },
  {
   "cell_type": "code",
   "execution_count": null,
   "metadata": {},
   "outputs": [],
   "source": [
    "load_dotenv()\n",
    "HF_Token = os.getenv(\"HuggingFace_TOKEN\")\n",
    "login(HF_Token) "
   ]
  },
  {
   "cell_type": "code",
   "execution_count": null,
   "metadata": {},
   "outputs": [],
   "source": [
    "# Load VideoMAE model for pretraining\n",
    "model = VideoMAEForPreTraining.from_pretrained(\"MCG-NJU/videomae-base\")\n",
    "device = torch.device(\"cuda\" if torch.cuda.is_available() else \"cpu\")\n",
    "model = model.to(device)\n",
    "\n",
    "print(model)"
   ]
  },
  {
   "cell_type": "code",
   "execution_count": null,
   "metadata": {},
   "outputs": [],
   "source": [
    "dataset = load_dataset(\"MCG-NJU/MultiSports\", split=\"train[:500]\")\n",
    "\n",
    "# match VideoMAE input size\n",
    "transform = transforms.Compose([\n",
    "    transforms.Resize((224, 224)),\n",
    "    transforms.ToTensor(),\n",
    "])\n",
    "\n",
    "def preprocess_video(sample):\n",
    "    frames = [transform(frame) for frame in sample[\"frame\"]]\n",
    "    video_tensor = torch.stack(frames).permute(1, 0, 2, 3)  # (C, T, H, W)\n",
    "    return {\"video\": video_tensor.unsqueeze(0)}  # (1, C, T, H, W)\n",
    "\n",
    "# Apply transformation\n",
    "dataset = dataset.map(preprocess_video)"
   ]
  },
  {
   "cell_type": "code",
   "execution_count": null,
   "metadata": {},
   "outputs": [],
   "source": [
    "train_loader = DataLoader(dataset, batch_size=4, shuffle=True)\n",
    "\n",
    "optimizer = optim.AdamW(model.parameters(), lr=1e-4)\n",
    "\n",
    "# Training loop\n",
    "num_epochs = 5\n",
    "for epoch in range(num_epochs):\n",
    "    model.train()\n",
    "    total_loss = 0\n",
    "\n",
    "    for batch in train_loader:\n",
    "        video_frames = batch[\"video\"].to(device)\n",
    "\n",
    "        optimizer.zero_grad()\n",
    "        outputs = model(video_frames, mask_ratio=0.9)  # Mask 90% of frames\n",
    "        loss = outputs.loss  # Masked frame reconstruction loss\n",
    "        loss.backward()\n",
    "        optimizer.step()\n",
    "\n",
    "        total_loss += loss.item()\n",
    "\n",
    "    print(f\"Epoch {epoch+1}/{num_epochs}, Loss: {total_loss/len(train_loader)}\")\n",
    "\n",
    "# Save pretrained model\n",
    "torch.save(model.state_dict(), \"videoMAE_pretrained.pth\")\n",
    "print(\"Pretraining complete. Model saved.\")"
   ]
  }
 ],
 "metadata": {
  "kernelspec": {
   "display_name": "TAD4Sports",
   "language": "python",
   "name": "python3"
  },
  "language_info": {
   "name": "python",
   "version": "undefined.undefined.undefined"
  }
 },
 "nbformat": 4,
 "nbformat_minor": 2
}
